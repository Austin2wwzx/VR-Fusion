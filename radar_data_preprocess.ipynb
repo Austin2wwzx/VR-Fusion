{
 "cells": [
  {
   "cell_type": "code",
   "execution_count": 18,
   "metadata": {},
   "outputs": [],
   "source": [
    "import os\n",
    "import os.path as osp\n",
    "import json\n",
    "\n",
    "from radar_dataclass import *\n",
    "from natsort import natsorted"
   ]
  },
  {
   "cell_type": "code",
   "execution_count": 19,
   "metadata": {},
   "outputs": [],
   "source": [
    "RADAR_DATA_DIR = './radar/json/'\n",
    "\n",
    "radar_file_path_list = [osp.join(RADAR_DATA_DIR, path) for path in natsorted(os.listdir(RADAR_DATA_DIR)) if path.endswith('json')]"
   ]
  },
  {
   "cell_type": "code",
   "execution_count": 20,
   "metadata": {},
   "outputs": [],
   "source": [
    "test_sample = radar_file_path_list[0]"
   ]
  },
  {
   "cell_type": "code",
   "execution_count": 22,
   "metadata": {},
   "outputs": [],
   "source": [
    "with open(test_sample, 'r') as file:\n",
    "    data_dict = json.load(file)"
   ]
  },
  {
   "cell_type": "code",
   "execution_count": 25,
   "metadata": {},
   "outputs": [],
   "source": [
    "adc_data = adcStruct(**{keys: data_dict['adcStruct'][keys] for keys in data_dict['adcStruct']})\n",
    "\n",
    "bv_data = beamVectorStruct(**{keys: data_dict['beamVectorStruct'][keys] for keys in data_dict['beamVectorStruct']})\n",
    "\n",
    "tLVHeaders = [TLVHeader(**tlv) for tlv in data_dict['frameHeader']['tLVHeaderlsit']]\n",
    "frame_data = frameHeader(**{key: data_dict['frameHeader'][key] for key in data_dict['frameHeader'] if key != 'tLVHeaderlsit'}, tLVHeaderlist=tLVHeaders)\n",
    "\n",
    "hrrp_data = hrrpStruct(data_dict['hrrp'])\n",
    "\n",
    "rd_data = rangeDopplerStruct(data_dict['rangeDoppler'])\n",
    "\n",
    "ra_data = rangeAngleStruct(**{keys: data_dict['rangeAngle'][keys] for keys in data_dict['rangeAngle']})\n",
    "\n",
    "det_data = detPointsStruct([detections(**item) for item in data_dict['detPoints']])\n",
    "\n",
    "trk_data = trackStruct([tracks(**item) for item in data_dict['track']])"
   ]
  }
 ],
 "metadata": {
  "kernelspec": {
   "display_name": "ml",
   "language": "python",
   "name": "python3"
  },
  "language_info": {
   "codemirror_mode": {
    "name": "ipython",
    "version": 3
   },
   "file_extension": ".py",
   "mimetype": "text/x-python",
   "name": "python",
   "nbconvert_exporter": "python",
   "pygments_lexer": "ipython3",
   "version": "3.9.7"
  }
 },
 "nbformat": 4,
 "nbformat_minor": 2
}
