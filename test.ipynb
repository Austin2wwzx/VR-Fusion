{
 "cells": [
  {
   "cell_type": "code",
   "execution_count": 1,
   "metadata": {},
   "outputs": [],
   "source": [
    "import cv2\n",
    "import numpy as np\n",
    "import open3d as o3d"
   ]
  },
  {
   "cell_type": "code",
   "execution_count": 2,
   "metadata": {},
   "outputs": [],
   "source": [
    "lidar_data_path = '/Users/austin/Downloads/VRFusion/lidar/chengdu-2025-02-26/data/1740546259.365476000.pcd'\n",
    "img_data_path = '/Users/austin/Downloads/VRFusion/camera/chengdu-2025-02-26/images/2025-02-26_13:04:19.358_413.png'"
   ]
  },
  {
   "cell_type": "code",
   "execution_count": 3,
   "metadata": {},
   "outputs": [],
   "source": [
    "def degrees_to_radians(degrees):\n",
    "    return degrees * np.pi / 180\n",
    "\n",
    "# 创建绕X轴的旋转矩阵\n",
    "def rotation_matrix_x(a):\n",
    "    a = degrees_to_radians(a)\n",
    "    R_x = np.array([\n",
    "        [1, 0, 0],\n",
    "        [0, np.cos(a), -np.sin(a)],\n",
    "        [0, np.sin(a), np.cos(a)]\n",
    "    ])\n",
    "    return R_x\n",
    "\n",
    "# 创建绕Y轴的旋转矩阵\n",
    "def rotation_matrix_y(b):\n",
    "    b = degrees_to_radians(b)\n",
    "    R_y = np.array([\n",
    "        [np.cos(b), 0, np.sin(b)],\n",
    "        [0, 1, 0],\n",
    "        [-np.sin(b), 0, np.cos(b)]\n",
    "    ])\n",
    "    return R_y\n",
    "\n",
    "# 创建绕Z轴的旋转矩阵\n",
    "def rotation_matrix_z(c):\n",
    "    c = degrees_to_radians(c)\n",
    "    R_z = np.array([\n",
    "        [np.cos(c), -np.sin(c), 0],\n",
    "        [np.sin(c), np.cos(c), 0],\n",
    "        [0, 0, 1]\n",
    "    ])\n",
    "    return R_z\n",
    "\n",
    "# R = np.dot(rotation_matrix_z(c), np.dot(rotation_matrix_y(b), rotation_matrix_x(a)))"
   ]
  },
  {
   "cell_type": "code",
   "execution_count": 4,
   "metadata": {},
   "outputs": [],
   "source": [
    "image = cv2.imread(img_data_path)\n",
    "pcd = o3d.io.read_point_cloud(lidar_data_path)\n",
    "points = np.asarray(pcd.points)\n",
    "\n",
    "# points[:, 0] = -points[:, 0] + 73\n",
    "# points[:, 1] = -points[:, 1] + 36\n",
    "\n",
    "points[:, 0] = -points[:, 0]\n",
    "points[:, 1] = -points[:, 1]\n",
    "\n",
    "points[:, 2] = 0"
   ]
  },
  {
   "cell_type": "code",
   "execution_count": 5,
   "metadata": {},
   "outputs": [],
   "source": [
    "camera_matrix = np.array([\n",
    "    [7552.52547830499, 0.0, 2004.3732920712564],\n",
    "    [0.0, 7559.4305148647, 1230.2384314670633],\n",
    "    [0.0, 0.0, 1.0]\n",
    "])\n",
    "\n",
    "R = np.array([\n",
    "    [-0.05678593, 0.99829066, 0.01382437],\n",
    "    [0.13648184, 0.02147875, -0.9904097],\n",
    "    [-0.98901368, -0.05435456, -0.13746823]\n",
    "])\n",
    "\n",
    "# R = np.array([\n",
    "#     [-1400.534234, 4190.304943, 1994.684341],\n",
    "#     [-96.16794156, 103.7901043, 31985.15021],\n",
    "#     [-0.578113491, -0.006838095, 1.]\n",
    "# ])\n",
    "\n",
    "# T = np.array([\n",
    "#     [-19.23468615],\n",
    "#     [-3.6991679],\n",
    "#     [73.8228221]\n",
    "# ])\n",
    "\n",
    "# T = np.array([\n",
    "#     [22.11662476],\n",
    "#     [-18.00724158],\n",
    "#     [181.06569838]\n",
    "# ])"
   ]
  },
  {
   "cell_type": "code",
   "execution_count": 6,
   "metadata": {},
   "outputs": [],
   "source": [
    "original_image = image.copy()\n",
    "original_points = points.copy()"
   ]
  },
  {
   "cell_type": "code",
   "execution_count": 7,
   "metadata": {},
   "outputs": [],
   "source": [
    "def update_transform(val):\n",
    "\n",
    "    image[:] = original_image\n",
    "\n",
    "    # angle_x = cv2.getTrackbarPos('x', 'Transformed Image') - 180\n",
    "    # angle_y = cv2.getTrackbarPos('y', 'Transformed Image') - 180\n",
    "    # angle_z = cv2.getTrackbarPos('z', 'Transformed Image') - 180\n",
    "\n",
    "    trans_x = cv2.getTrackbarPos('Vec_T_0', 'Transformed Image') - 1000\n",
    "    trans_y = cv2.getTrackbarPos('Vec_T_1', 'Transformed Image') - 1000\n",
    "    trans_z = cv2.getTrackbarPos('Vec_T_2', 'Transformed Image') - 1000\n",
    "\n",
    "    trans_xx = cv2.getTrackbarPos('PCD_x', 'Transformed Image') - 1000\n",
    "    trans_yy = cv2.getTrackbarPos('PCD_y', 'Transformed Image') - 1000\n",
    "    trans_zz = cv2.getTrackbarPos('PCD_z', 'Transformed Image') - 1000\n",
    "\n",
    "    points[:, 0] = original_points[:, 0] + trans_xx * 0.1\n",
    "    points[:, 1] = original_points[:, 1] + trans_yy * 0.1\n",
    "    points[:, 2] = original_points[:, 2] + trans_zz * 0.1\n",
    "\n",
    "    T = np.array([\n",
    "        [trans_x * 0.1],\n",
    "        [trans_y * 0.1],\n",
    "        [trans_z * 0.1]\n",
    "    ])\n",
    "\n",
    "    # R = np.dot(rotation_matrix_z(angle_z), np.dot(rotation_matrix_y(angle_y), rotation_matrix_x(angle_x)))\n",
    "\n",
    "    point_cloud_camera = R.dot(points.T) + T.reshape(3, 1)\n",
    "    points_2d = camera_matrix.dot(point_cloud_camera)\n",
    "    points_2d /= points_2d[2, :]\n",
    "\n",
    "    points_trans_2d = points_2d[0:2, :].T.astype(np.int32)\n",
    "\n",
    "    for point in points_trans_2d:\n",
    "        cv2.circle(image, tuple(point), 5, (0, 0, 255), -1)\n",
    "\n",
    "    cv2.imshow('Transformed Image', image)"
   ]
  },
  {
   "cell_type": "code",
   "execution_count": null,
   "metadata": {},
   "outputs": [],
   "source": [
    "if image is None:\n",
    "    print(\"Error: Image not found.\")\n",
    "else:\n",
    "    cv2.namedWindow('Transformed Image')\n",
    "\n",
    "    cv2.createTrackbar('Vec_T_0', 'Transformed Image', 1000, 2000, update_transform)\n",
    "    cv2.createTrackbar('Vec_T_1', 'Transformed Image', 1000, 2000, update_transform)\n",
    "    cv2.createTrackbar('Vec_T_2', 'Transformed Image', 1000, 2000, update_transform)\n",
    "    cv2.createTrackbar('PCD_x', 'Transformed Image', 1000, 2000, update_transform)\n",
    "    cv2.createTrackbar('PCD_y', 'Transformed Image', 1000, 2000, update_transform)\n",
    "    cv2.createTrackbar('PCD_z', 'Transformed Image', 1000, 2000, update_transform)\n",
    "\n",
    "    update_transform(None)\n",
    "\n",
    "    cv2.waitKey(0)\n",
    "    cv2.destroyAllWindows()"
   ]
  }
 ],
 "metadata": {
  "kernelspec": {
   "display_name": "ml",
   "language": "python",
   "name": "python3"
  },
  "language_info": {
   "codemirror_mode": {
    "name": "ipython",
    "version": 3
   },
   "file_extension": ".py",
   "mimetype": "text/x-python",
   "name": "python",
   "nbconvert_exporter": "python",
   "pygments_lexer": "ipython3",
   "version": "3.9.7"
  }
 },
 "nbformat": 4,
 "nbformat_minor": 2
}
