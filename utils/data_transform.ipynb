{
 "cells": [
  {
   "cell_type": "code",
   "execution_count": 1,
   "metadata": {},
   "outputs": [],
   "source": [
    "import pickle\n",
    "import os\n",
    "import os.path as osp"
   ]
  },
  {
   "cell_type": "code",
   "execution_count": 2,
   "metadata": {},
   "outputs": [],
   "source": [
    "NUSCENCES_MINI_ROOT_PATH = '/Users/austin/Downloads/chengdu-2025-01-10/nuscences-mini'\n",
    "\n",
    "db_infos_train_path = osp.join(NUSCENCES_MINI_ROOT_PATH, 'nuscenes_dbinfos_train.pkl')\n",
    "infos_train_path = osp.join(NUSCENCES_MINI_ROOT_PATH, 'nuscenes_infos_train.pkl')\n",
    "infos_val_path = osp.join(NUSCENCES_MINI_ROOT_PATH, 'nuscenes_infos_val.pkl')"
   ]
  },
  {
   "cell_type": "code",
   "execution_count": 3,
   "metadata": {},
   "outputs": [],
   "source": [
    "with open(db_infos_train_path, 'rb') as file:\n",
    "    db_infos_train_data = pickle.load(file)\n",
    "\n",
    "with open(infos_train_path, 'rb') as file:\n",
    "    infos_train_pdata = pickle.load(file)\n",
    "\n",
    "with open(infos_val_path, 'rb') as file:\n",
    "    infos_val_data = pickle.load(file)"
   ]
  },
  {
   "cell_type": "code",
   "execution_count": 5,
   "metadata": {},
   "outputs": [
    {
     "data": {
      "text/plain": [
       "dict_keys(['lidar_path', 'token', 'sweeps', 'cams', 'radars', 'lidar2ego_translation', 'lidar2ego_rotation', 'ego2global_translation', 'ego2global_rotation', 'timestamp', 'prev_token', 'gt_boxes', 'gt_names', 'gt_velocity', 'num_lidar_pts', 'num_radar_pts', 'valid_flag', 'prev'])"
      ]
     },
     "execution_count": 5,
     "metadata": {},
     "output_type": "execute_result"
    }
   ],
   "source": [
    "infos_train_pdata['infos'][0].keys()"
   ]
  }
 ],
 "metadata": {
  "kernelspec": {
   "display_name": "ml",
   "language": "python",
   "name": "python3"
  },
  "language_info": {
   "codemirror_mode": {
    "name": "ipython",
    "version": 3
   },
   "file_extension": ".py",
   "mimetype": "text/x-python",
   "name": "python",
   "nbconvert_exporter": "python",
   "pygments_lexer": "ipython3",
   "version": "3.9.7"
  }
 },
 "nbformat": 4,
 "nbformat_minor": 2
}
