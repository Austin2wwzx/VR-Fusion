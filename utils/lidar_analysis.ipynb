{
 "cells": [
  {
   "cell_type": "code",
   "execution_count": 1,
   "metadata": {},
   "outputs": [],
   "source": [
    "import open3d as o3d"
   ]
  },
  {
   "cell_type": "code",
   "execution_count": null,
   "metadata": {},
   "outputs": [],
   "source": [
    "PCD_DATA_PATH = '../lidar/data/1736500681.467958000.pcd'\n",
    "\n",
    "pcd = o3d.io.read_point_cloud(PCD_DATA_PATH)\n",
    "coordinate_frame = o3d.geometry.TriangleMesh.create_coordinate_frame(size=10)\n",
    "o3d.visualization.draw_geometries([pcd, coordinate_frame])"
   ]
  }
 ],
 "metadata": {
  "kernelspec": {
   "display_name": "ml",
   "language": "python",
   "name": "python3"
  },
  "language_info": {
   "codemirror_mode": {
    "name": "ipython",
    "version": 3
   },
   "file_extension": ".py",
   "mimetype": "text/x-python",
   "name": "python",
   "nbconvert_exporter": "python",
   "pygments_lexer": "ipython3",
   "version": "3.9.7"
  }
 },
 "nbformat": 4,
 "nbformat_minor": 2
}
