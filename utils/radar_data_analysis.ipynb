{
 "cells": [
  {
   "cell_type": "code",
   "execution_count": 1,
   "metadata": {},
   "outputs": [],
   "source": [
    "import os\n",
    "import os.path as osp\n",
    "import json\n",
    "import imageio\n",
    "import numpy as np\n",
    "import matplotlib.pyplot as plt \n",
    "import seaborn as sns\n",
    "import warnings\n",
    "import plotly.graph_objects as go\n",
    "import matplotlib.animation as animation\n",
    "\n",
    "from radar_dataclass import *\n",
    "from natsort import natsorted\n",
    "from radar_data_preprocess import RadarData\n",
    "from typing import List, Dict\n",
    "from mpl_toolkits.mplot3d import Axes3D\n",
    "\n",
    "plt.rcParams['xtick.direction'] = 'in'\n",
    "plt.rcParams['ytick.direction'] = 'in'\n",
    "\n",
    "warnings.filterwarnings('ignore')"
   ]
  },
  {
   "cell_type": "code",
   "execution_count": null,
   "metadata": {},
   "outputs": [],
   "source": [
    "RADAR_DATA_DIR = '../radar/json/'\n",
    "\n",
    "data = RadarData(root_path=RADAR_DATA_DIR, duration_frames=0)"
   ]
  },
  {
   "cell_type": "code",
   "execution_count": 3,
   "metadata": {},
   "outputs": [],
   "source": [
    "frame_dict: Dict[int, Radar] = data.frame_dict\n",
    "frame_info_list: List[frameHeader] = [frame_dict[keys].frameInfo for keys in frame_dict]\n",
    "\n",
    "dets_list: List[detPointsStruct] = [frame_dict[keys].dets for keys in frame_dict]"
   ]
  },
  {
   "cell_type": "code",
   "execution_count": null,
   "metadata": {},
   "outputs": [],
   "source": [
    "frame_time_list = list()\n",
    "\n",
    "for frame_info in frame_info_list:\n",
    "    frame_time_list.append(frame_info.add_frameTime_ms)\n",
    "\n",
    "plt.plot(range(len(frame_time_list)), frame_time_list)\n",
    "plt.grid(linestyle='--')"
   ]
  },
  {
   "cell_type": "code",
   "execution_count": null,
   "metadata": {},
   "outputs": [],
   "source": [
    "frame_diff_time_list = list()\n",
    "frame_ref_time = frame_info_list[0].add_frameTime_ms\n",
    "\n",
    "for frame_info in frame_info_list[1:]:\n",
    "    frame_diff_time_list.append(frame_info.add_frameTime_ms - frame_ref_time)\n",
    "    frame_ref_time = frame_info.add_frameTime_ms\n",
    "\n",
    "plt.plot(range(len(frame_diff_time_list)), frame_diff_time_list)\n",
    "plt.grid(linestyle='--')"
   ]
  },
  {
   "cell_type": "code",
   "execution_count": null,
   "metadata": {},
   "outputs": [],
   "source": [
    "sns.distplot(frame_diff_time_list, bins=100)"
   ]
  },
  {
   "cell_type": "code",
   "execution_count": null,
   "metadata": {},
   "outputs": [],
   "source": [
    "len(dets_list[2].dets)"
   ]
  },
  {
   "cell_type": "code",
   "execution_count": null,
   "metadata": {},
   "outputs": [],
   "source": [
    "det_nums_list = list()\n",
    "\n",
    "# for frame_info in frame_info_list:\n",
    "#     det_nums_list.append(frame_info.)\n",
    "\n",
    "for det_frame in dets_list:\n",
    "    det_nums_list.append(len(det_frame.dets))\n",
    "\n",
    "plt.figure(figsize=(100,3))\n",
    "plt.plot(range(len(det_nums_list)), det_nums_list)\n",
    "plt.grid(linestyle='--')"
   ]
  },
  {
   "cell_type": "code",
   "execution_count": null,
   "metadata": {},
   "outputs": [],
   "source": [
    "plt.scatter(frame_diff_time_list, det_nums_list[1:])"
   ]
  },
  {
   "cell_type": "code",
   "execution_count": null,
   "metadata": {},
   "outputs": [],
   "source": [
    "trk_nums_list = list()\n",
    "\n",
    "for frame_info in frame_info_list:\n",
    "    trk_nums_list.append(frame_info.numTracker)\n",
    "\n",
    "plt.figure(figsize=(100,3))\n",
    "plt.plot(range(len(trk_nums_list)), trk_nums_list)\n",
    "plt.grid(linestyle='--')"
   ]
  },
  {
   "cell_type": "code",
   "execution_count": null,
   "metadata": {},
   "outputs": [],
   "source": [
    "plt.scatter(frame_diff_time_list, trk_nums_list[1:])"
   ]
  },
  {
   "cell_type": "code",
   "execution_count": null,
   "metadata": {},
   "outputs": [],
   "source": [
    "fig = go.Figure(data=[go.Scatter3d(\n",
    "    x=frame_diff_time_list,\n",
    "    y=trk_nums_list[1:],\n",
    "    z=det_nums_list[1:],\n",
    "    mode='markers',  # 'lines', 'markers', 'lines+markers'\n",
    "    marker=dict(\n",
    "        size=1,\n",
    "        color=det_nums_list[1:],    \n",
    "        colorscale='Viridis',\n",
    "        opacity=1\n",
    "    )\n",
    ")])\n",
    "\n",
    "fig.update_layout(\n",
    "    scene=dict(\n",
    "        xaxis_title='X Axis',\n",
    "        yaxis_title='Y Axis',\n",
    "        zaxis_title='Z Axis'\n",
    "    ),\n",
    ")"
   ]
  },
  {
   "cell_type": "code",
   "execution_count": null,
   "metadata": {},
   "outputs": [],
   "source": [
    "# frame_idx = 1\n",
    "\n",
    "\n",
    "# import matplotlib.animation as animation\n",
    "\n",
    "# fig, ax = plt.subplots()\n",
    "# # cmap = plt.get_cmap('viridis')\n",
    "# # norm = plt.Normalize(vmin=min([item.doppler for det_frame in dets_list for item in det_frame.dets]), vmax=max([item.doppler for det_frame in dets_list for item in det_frame.dets]))\n",
    "\n",
    "# def update(frame_idx):\n",
    "#     ax.clear()\n",
    "#     single_frame_dets_array = np.array([np.array([item.add_pos_x, item.add_pos_y, item.doppler]) for item in dets_list[frame_idx].dets])\n",
    "\n",
    "#     ax.scatter(single_frame_dets_array[:, 1], single_frame_dets_array[:, 0], s=0.8, )\n",
    "#     ax.set_title(f'Frame {frame_idx}')\n",
    "#     ax.set_xlim(-100, 100)\n",
    "#     ax.set_ylim(-10, 500)\n",
    "#     ax.grid(True)\n",
    "\n",
    "# ani = animation.FuncAnimation(fig, update, frames=len(dets_list), repeat=False)\n",
    "# ani.save('radar_animation.gif', writer='imagemagick')\n",
    "\n",
    "\n",
    "fig, ax = plt.subplots()\n",
    "\n",
    "# 计算所有帧中的doppler值的全局最小值和最大值\n",
    "doppler_all_frames = []\n",
    "\n",
    "# 收集所有帧的doppler值\n",
    "for frame_idx in range(len(dets_list)):\n",
    "    single_frame_dets_array = np.array([np.array([item.add_pos_x, item.add_pos_y, item.doppler]) for item in dets_list[frame_idx].dets])\n",
    "    doppler_all_frames.extend(np.abs(single_frame_dets_array[:, 2]))  # 添加doppler值到doppler_all_frames\n",
    "\n",
    "# 计算doppler值的全局最小值和最大值\n",
    "doppler_min = min(doppler_all_frames)\n",
    "doppler_max = max(doppler_all_frames)\n",
    "\n",
    "# 创建一个颜色条并将其添加到图中（只做一次）\n",
    "cmap = 'viridis'\n",
    "scatter = ax.scatter([], [], c=[], s=10, cmap=cmap, vmin=doppler_min, vmax=doppler_max)  # 设置vmin和vmax\n",
    "cbar = plt.colorbar(scatter, ax=ax)\n",
    "cbar.set_label('Doppler')\n",
    "\n",
    "def update(frame_idx):\n",
    "    ax.clear()\n",
    "    \n",
    "    # 提取当前帧的检测数据\n",
    "    single_frame_dets_array = np.array([np.array([item.add_pos_x, item.add_pos_y, item.doppler]) for item in dets_list[frame_idx].dets])\n",
    "    \n",
    "    # 使用doppler值直接设置颜色\n",
    "    doppler_vals = single_frame_dets_array[:, 2]  # 获取doppler值\n",
    "    \n",
    "    # 绘制散点图，使用doppler值进行颜色映射\n",
    "    scatter = ax.scatter(single_frame_dets_array[:, 1], single_frame_dets_array[:, 0], c=doppler_vals, s=0.8, cmap=cmap, vmin=doppler_min, vmax=doppler_max)\n",
    "    \n",
    "    ax.set_title(f'Frame {frame_idx}')\n",
    "    ax.set_xlim(-100, 100)\n",
    "    ax.set_ylim(-10, 500)\n",
    "    ax.grid(True)\n",
    "\n",
    "ani = animation.FuncAnimation(fig, update, frames=len(dets_list), repeat=False)\n",
    "ani.save('radar_animation.gif', writer='imagemagick')"
   ]
  },
  {
   "cell_type": "code",
   "execution_count": null,
   "metadata": {},
   "outputs": [],
   "source": []
  },
  {
   "cell_type": "code",
   "execution_count": 15,
   "metadata": {},
   "outputs": [],
   "source": [
    "# plt.imshow(np.array([item['data'] for item in rd_data.rangeDoppler]).reshape(512, -1).T)"
   ]
  }
 ],
 "metadata": {
  "kernelspec": {
   "display_name": "ml",
   "language": "python",
   "name": "python3"
  },
  "language_info": {
   "codemirror_mode": {
    "name": "ipython",
    "version": 3
   },
   "file_extension": ".py",
   "mimetype": "text/x-python",
   "name": "python",
   "nbconvert_exporter": "python",
   "pygments_lexer": "ipython3",
   "version": "3.9.7"
  }
 },
 "nbformat": 4,
 "nbformat_minor": 2
}
