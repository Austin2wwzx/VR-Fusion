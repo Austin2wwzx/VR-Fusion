{
 "cells": [
  {
   "cell_type": "code",
   "execution_count": null,
   "metadata": {},
   "outputs": [],
   "source": [
    "import os\n",
    "import os.path as osp\n",
    "import time\n",
    "import json\n",
    "import imageio\n",
    "import numpy as np\n",
    "import matplotlib.pyplot as plt \n",
    "import seaborn as sns\n",
    "import warnings\n",
    "import plotly.graph_objects as go\n",
    "import matplotlib.animation as animation\n",
    "import matplotlib.patches as patches\n",
    "\n",
    "from radar_dataclass import *\n",
    "from natsort import natsorted\n",
    "from radar_data_preprocess import RadarData\n",
    "from typing import List, Dict\n",
    "from mpl_toolkits.mplot3d import Axes3D\n",
    "\n",
    "\n",
    "plt.rcParams['xtick.direction'] = 'in'\n",
    "plt.rcParams['ytick.direction'] = 'in'\n",
    "\n",
    "warnings.filterwarnings('ignore')"
   ]
  },
  {
   "cell_type": "code",
   "execution_count": null,
   "metadata": {},
   "outputs": [],
   "source": [
    "RADAR_DATA_DIR = '../../radar/chengdu-2025-02-26/json'\n",
    "\n",
    "start_time = time.time()\n",
    "\n",
    "data = RadarData(root_path=RADAR_DATA_DIR, duration_frames=0)\n",
    "\n",
    "print(time.time() - start_time)"
   ]
  },
  {
   "cell_type": "code",
   "execution_count": null,
   "metadata": {},
   "outputs": [],
   "source": [
    "frame_dict: Dict[int, Radar] = data.frame_dict\n",
    "frame_info_list: List[frameHeader] = [frame_dict[keys].frameInfo for keys in frame_dict]\n",
    "\n",
    "dets_list: List[detections] = [frame_dict[keys].dets for keys in frame_dict]\n",
    "trks_list: List[tracks] = [frame_dict[keys].trks for keys in frame_dict]"
   ]
  },
  {
   "cell_type": "code",
   "execution_count": null,
   "metadata": {},
   "outputs": [],
   "source": [
    "len(dets_list[0].det_list)"
   ]
  },
  {
   "cell_type": "code",
   "execution_count": null,
   "metadata": {},
   "outputs": [],
   "source": [
    "frame_time_list = list()\n",
    "\n",
    "for frame_info in frame_info_list:\n",
    "    frame_time_list.append(frame_info.add_frameTime_ms)\n",
    "\n",
    "plt.plot(range(len(frame_time_list)), frame_time_list)\n",
    "plt.grid(linestyle='--')"
   ]
  },
  {
   "cell_type": "code",
   "execution_count": null,
   "metadata": {},
   "outputs": [],
   "source": [
    "frame_diff_time_list = list()\n",
    "frame_ref_time = frame_info_list[0].add_frameTime_ms\n",
    "\n",
    "for frame_info in frame_info_list[1:]:\n",
    "    frame_diff_time_list.append(frame_info.add_frameTime_ms - frame_ref_time)\n",
    "    frame_ref_time = frame_info.add_frameTime_ms\n",
    "\n",
    "plt.plot(range(len(frame_diff_time_list)), frame_diff_time_list)\n",
    "plt.grid(linestyle='--')"
   ]
  },
  {
   "cell_type": "code",
   "execution_count": null,
   "metadata": {},
   "outputs": [],
   "source": [
    "sns.distplot(frame_diff_time_list, bins=100)\n",
    "plt.xlabel('Time interval (ms)')\n",
    "# plt.savefig('Time interval density.svg', format='svg')"
   ]
  },
  {
   "cell_type": "code",
   "execution_count": null,
   "metadata": {},
   "outputs": [],
   "source": [
    "det_nums_list = list()\n",
    "\n",
    "for det_frame in dets_list:\n",
    "    det_nums_list.append(len(det_frame.det_list))\n",
    "\n",
    "plt.figure(figsize=(100,3))\n",
    "plt.plot(range(len(det_nums_list)), det_nums_list)\n",
    "plt.grid(linestyle='--')"
   ]
  },
  {
   "cell_type": "code",
   "execution_count": null,
   "metadata": {},
   "outputs": [],
   "source": [
    "plt.scatter(frame_diff_time_list, det_nums_list[1:])"
   ]
  },
  {
   "cell_type": "code",
   "execution_count": null,
   "metadata": {},
   "outputs": [],
   "source": [
    "trk_nums_list = list()\n",
    "\n",
    "for frame_info in frame_info_list:\n",
    "    trk_nums_list.append(frame_info.numTracker)\n",
    "\n",
    "plt.figure(figsize=(100,3))\n",
    "plt.plot(range(len(trk_nums_list)), trk_nums_list)\n",
    "plt.grid(linestyle='--')"
   ]
  },
  {
   "cell_type": "code",
   "execution_count": null,
   "metadata": {},
   "outputs": [],
   "source": [
    "plt.scatter(frame_diff_time_list, trk_nums_list[1:])"
   ]
  },
  {
   "cell_type": "code",
   "execution_count": null,
   "metadata": {},
   "outputs": [],
   "source": [
    "fig = go.Figure(data=[go.Scatter3d(\n",
    "    x=frame_diff_time_list,\n",
    "    y=trk_nums_list[1:],\n",
    "    z=det_nums_list[1:],\n",
    "    mode='markers',  # 'lines', 'markers', 'lines+markers'\n",
    "    marker=dict(\n",
    "        size=1,\n",
    "        color=det_nums_list[1:],    \n",
    "        colorscale='Viridis',\n",
    "        opacity=1\n",
    "    )\n",
    ")])\n",
    "\n",
    "fig.update_layout(\n",
    "    scene=dict(\n",
    "        xaxis_title='X Axis',\n",
    "        yaxis_title='Y Axis',\n",
    "        zaxis_title='Z Axis'\n",
    "    ),\n",
    ")"
   ]
  },
  {
   "cell_type": "code",
   "execution_count": null,
   "metadata": {},
   "outputs": [],
   "source": [
    "fig, ax = plt.subplots()\n",
    "\n",
    "doppler_all_frames = []\n",
    "\n",
    "for frame_idx in range(len(dets_list)):\n",
    "    single_frame_dets_array = np.array([np.array([item.add_pos_x, item.add_pos_y, item.doppler]) for item in dets_list[frame_idx].det_list])\n",
    "    doppler_all_frames.extend(np.abs(single_frame_dets_array[:, 2]))\n",
    "\n",
    "doppler_min = min(doppler_all_frames)\n",
    "doppler_max = max(doppler_all_frames)\n",
    "\n",
    "cmap = 'viridis'\n",
    "scatter = ax.scatter([], [], c=[], s=10, cmap=cmap, vmin=doppler_min, vmax=doppler_max)\n",
    "cbar = plt.colorbar(scatter, ax=ax)\n",
    "cbar.set_label('Abs doppler')\n",
    "\n",
    "def update(frame_idx):\n",
    "    ax.clear()\n",
    "    \n",
    "    single_frame_dets_array = np.array([np.array([item.add_pos_x, item.add_pos_y, item.doppler]) for item in dets_list[frame_idx].det_list])\n",
    "    doppler_vals = single_frame_dets_array[:, 2] \n",
    "\n",
    "    for coll in ax.collections:\n",
    "        coll.remove()\n",
    "    \n",
    "    scatter = ax.scatter(single_frame_dets_array[:, 1], single_frame_dets_array[:, 0], c=doppler_vals, s=0.8, cmap=cmap, vmin=doppler_min, vmax=doppler_max)\n",
    "    \n",
    "    single_frame_trks_array = np.array([np.array([item.x, item.y, item.xSize, item.ySize]) for item in trks_list[frame_idx].trk_list])\n",
    "\n",
    "    for i in range(len(single_frame_trks_array)):\n",
    "        x_center = single_frame_trks_array[i, 0] / 64\n",
    "        y_center = single_frame_trks_array[i, 1] / 64\n",
    "\n",
    "        square_width  = single_frame_trks_array[i, 2] / 64\n",
    "        square_height = single_frame_trks_array[i, 3] / 64\n",
    "\n",
    "        rect = patches.Rectangle((x_center - square_width / 2, y_center - square_height / 2),\n",
    "                                 square_width, square_height,\n",
    "                                 linewidth=1, edgecolor='r', facecolor='none', alpha=0.5)\n",
    "        \n",
    "        ax.add_patch(rect)\n",
    "    \n",
    "    ax.set_title(f'Frame {frame_idx}')\n",
    "    ax.set_xlim(-75, 75)\n",
    "    ax.set_ylim(-10, 300)\n",
    "    ax.set_xlabel('Position-Y (m)')\n",
    "    ax.set_ylabel('Position-X (m)')\n",
    "    ax.grid(True, linestyle='--', color='gray', alpha=0.5)\n",
    "\n",
    "ani = animation.FuncAnimation(fig, update, frames=len(dets_list), repeat=False, interval=100)\n",
    "save_floder = '../../result/plot'\n",
    "# ani.save(osp.join(save_floder, '{}:radar_det_trk_visualize.gif'.format(RADAR_DATA_DIR.split('/')[3])), writer='imagemagick')"
   ]
  },
  {
   "cell_type": "code",
   "execution_count": null,
   "metadata": {},
   "outputs": [],
   "source": [
    "# plt.imshow(np.array([item['data'] for item in rd_data.rangeDoppler]).reshape(512, -1).T)"
   ]
  }
 ],
 "metadata": {
  "kernelspec": {
   "display_name": "ml",
   "language": "python",
   "name": "python3"
  },
  "language_info": {
   "codemirror_mode": {
    "name": "ipython",
    "version": 3
   },
   "file_extension": ".py",
   "mimetype": "text/x-python",
   "name": "python",
   "nbconvert_exporter": "python",
   "pygments_lexer": "ipython3",
   "version": "3.9.7"
  }
 },
 "nbformat": 4,
 "nbformat_minor": 2
}
