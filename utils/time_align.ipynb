{
 "cells": [
  {
   "cell_type": "code",
   "execution_count": 23,
   "metadata": {},
   "outputs": [],
   "source": [
    "# import os\n",
    "# import os.path as osp\n",
    "# from datetime import timedelta\n",
    "# from natsort import natsorted\n",
    "\n",
    "\n",
    "# input_folder = '../camera/2025-01-10/splited_images'\n",
    "# output_folder = '../camera/2025-01-10/images'\n",
    "\n",
    "# os.makedirs(output_folder, exist_ok=True)\n",
    "# start_time = timedelta(hours=17, minutes=18, seconds=0)\n",
    "\n",
    "# frame_rate = 299 / 12\n",
    "\n",
    "# img_path_list = [osp.join(input_folder, img_name) for img_name in natsorted(os.listdir(input_folder)) if img_name.endswith('.png')]\n",
    "\n",
    "\n",
    "# for idx, img_path in enumerate(img_path_list):\n",
    "#     timestamp_seconds = idx / frame_rate\n",
    "#     timestamp = start_time + timedelta(seconds=timestamp_seconds)\n",
    "\n",
    "#     timestamp_str = str(timestamp)\n",
    "    \n",
    "#     if '.' in timestamp_str:\n",
    "#         time_str, milliseconds = timestamp_str.split('.')\n",
    "#         milliseconds = milliseconds[:3]\n",
    "#     else:\n",
    "#         time_str = timestamp_str\n",
    "#         milliseconds = '000'\n",
    "\n",
    "#     formatted_time = '2025-01-10_' + f'{time_str}.{milliseconds}' + '_' + f'{idx}' + '.png'\n",
    "\n",
    "#     new_filepath = osp.join(output_folder, formatted_time)\n",
    "#     # os.rename(img_path, new_filepath)"
   ]
  },
  {
   "cell_type": "code",
   "execution_count": 24,
   "metadata": {},
   "outputs": [
    {
     "name": "stdout",
     "output_type": "stream",
     "text": [
      "Video resolution: 4096x2160\n",
      "Frame rate: 23.926587112996742 FPS\n",
      "Total frames: 2769\n",
      "Video codec: h264\n"
     ]
    }
   ],
   "source": [
    "import cv2\n",
    "\n",
    "# 创建视频捕捉对象\n",
    "video_path = '/Users/austin/Downloads/chengdu-2025-01-10/camera/2025-01-10/2025-01-10_17-18-00_racobit@12@192.168.1.81.avi'\n",
    "cap = cv2.VideoCapture(video_path)\n",
    "\n",
    "if not cap.isOpened():\n",
    "    print('Error: Could not open video.')\n",
    "else:\n",
    "    # 获取视频的各种信息\n",
    "    frame_width = int(cap.get(cv2.CAP_PROP_FRAME_WIDTH))  # 视频的宽度\n",
    "    frame_height = int(cap.get(cv2.CAP_PROP_FRAME_HEIGHT))  # 视频的高度\n",
    "    fps = cap.get(cv2.CAP_PROP_FPS)  # 视频的帧率\n",
    "    total_frames = int(cap.get(cv2.CAP_PROP_FRAME_COUNT))  # 视频的总帧数\n",
    "    codec = int(cap.get(cv2.CAP_PROP_FOURCC))  # 获取视频编码格式（FourCC）\n",
    "    \n",
    "    # 转换 FourCC 编码为可读格式\n",
    "    codec_str = ''.join([chr((codec >> 8 * i) & 0xFF) for i in range(4)])\n",
    "\n",
    "    # 输出视频信息\n",
    "    print(f'Video resolution: {frame_width}x{frame_height}')\n",
    "    print(f'Frame rate: {fps} FPS')\n",
    "    print(f'Total frames: {total_frames}')\n",
    "    print(f'Video codec: {codec_str}')\n",
    "    \n",
    "# 释放捕捉对象\n",
    "cap.release()"
   ]
  }
 ],
 "metadata": {
  "kernelspec": {
   "display_name": "ml",
   "language": "python",
   "name": "python3"
  },
  "language_info": {
   "codemirror_mode": {
    "name": "ipython",
    "version": 3
   },
   "file_extension": ".py",
   "mimetype": "text/x-python",
   "name": "python",
   "nbconvert_exporter": "python",
   "pygments_lexer": "ipython3",
   "version": "3.9.7"
  }
 },
 "nbformat": 4,
 "nbformat_minor": 2
}
